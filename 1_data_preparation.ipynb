{
 "cells": [
  {
   "cell_type": "markdown",
   "metadata": {},
   "source": [
    "# Data preparation\n",
    "The dataset used for this project is the UTKFace dataset : https://susanqq.github.io/UTKFace/\n"
   ]
  },
  {
   "cell_type": "code",
   "execution_count": 30,
   "metadata": {},
   "outputs": [],
   "source": [
    "%matplotlib inline\n",
    "import matplotlib.pyplot as plt\n",
    "import os\n",
    "from PIL import Image \n",
    "import numpy as np\n",
    "import progressbar\n",
    "from random import shuffle"
   ]
  },
  {
   "cell_type": "code",
   "execution_count": 24,
   "metadata": {},
   "outputs": [],
   "source": [
    "IMG_DIR = 'data/faces_crop'\n",
    "DATA_FILE_DIR = 'data/faces.npy'\n",
    "IMG_SIZE = 300"
   ]
  },
  {
   "cell_type": "markdown",
   "metadata": {},
   "source": [
    "Create a data vector contaning resized pictures and the corresponding age.\n",
    "Save the data in a file."
   ]
  },
  {
   "cell_type": "code",
   "execution_count": 36,
   "metadata": {},
   "outputs": [
    {
     "name": "stderr",
     "output_type": "stream",
     "text": [
      "  0% (15 of 9780) |                      | Elapsed Time: 0:00:00 ETA:   0:01:05"
     ]
    },
    {
     "name": "stdout",
     "output_type": "stream",
     "text": [
      "Processing pictures\n"
     ]
    },
    {
     "name": "stderr",
     "output_type": "stream",
     "text": [
      "100% (9780 of 9780) |####################| Elapsed Time: 0:00:50 Time:  0:00:50\n"
     ]
    },
    {
     "name": "stdout",
     "output_type": "stream",
     "text": [
      "Saving dataset\n",
      "The dataset has been saved in data/faces.npy\n"
     ]
    }
   ],
   "source": [
    "data = []\n",
    "img_list = os.listdir(IMG_DIR)\n",
    "nb_img  = len(img_list)\n",
    "print('Processing pictures')\n",
    "for i in progressbar.progressbar(range(nb_img)):\n",
    "    img = img_list[i]\n",
    "    no_ext = img.split('.')[0]\n",
    "    labels = no_ext.split('_')\n",
    "    age = labels[0]\n",
    "    path = os.path.join(DIR, img)\n",
    "    img = Image.open(path)\n",
    "    img = img.resize((IMG_SIZE, IMG_SIZE), Image.ANTIALIAS)\n",
    "    data += [[np.array(img), age]]\n",
    "shuffle(data)\n",
    "\n",
    "print('Saving dataset')\n",
    "np.save(DATA_FILE_DIR, data)\n",
    "print('The dataset has been saved in {}.'.format(DATA_FILE_DIR))"
   ]
  },
  {
   "cell_type": "markdown",
   "metadata": {},
   "source": [
    "We test that the dataset can be loaded properly"
   ]
  },
  {
   "cell_type": "code",
   "execution_count": null,
   "metadata": {},
   "outputs": [],
   "source": [
    "faces_set = np.load(DATA_FILE_DIR, allow_pickle = True)\n",
    "print('The dataset has been loaded properly.')"
   ]
  },
  {
   "cell_type": "markdown",
   "metadata": {},
   "source": [
    "Plotting the first face of the dataset."
   ]
  },
  {
   "cell_type": "code",
   "execution_count": null,
   "metadata": {},
   "outputs": [],
   "source": [
    "plt.imshow(faces_set[0][0], cmap = 'gist_gray')\n",
    "plt.show()\n",
    "print('{} years old person'.format(faces_set[0][1]))"
   ]
  },
  {
   "cell_type": "code",
   "execution_count": null,
   "metadata": {},
   "outputs": [],
   "source": []
  }
 ],
 "metadata": {
  "kernelspec": {
   "display_name": "age-from-pic",
   "language": "python",
   "name": "age-from-pic"
  },
  "language_info": {
   "codemirror_mode": {
    "name": "ipython",
    "version": 3
   },
   "file_extension": ".py",
   "mimetype": "text/x-python",
   "name": "python",
   "nbconvert_exporter": "python",
   "pygments_lexer": "ipython3",
   "version": "3.7.3"
  }
 },
 "nbformat": 4,
 "nbformat_minor": 2
}
